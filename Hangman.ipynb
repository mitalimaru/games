{
 "cells": [
  {
   "cell_type": "code",
   "execution_count": 2,
   "id": "87cdb760",
   "metadata": {},
   "outputs": [
    {
     "name": "stdout",
     "output_type": "stream",
     "text": [
      "_______\n",
      "Guess a letter: a\n",
      "_a_____\n",
      "Guess a letter: d\n",
      "_a____d\n",
      "Guess a letter: b\n",
      "ba____d\n",
      "Guess a letter: c\n",
      "bac___d\n",
      "Guess a letter: k\n",
      "back__d\n",
      "Guess a letter: e\n",
      "backe_d\n",
      "Guess a letter: n\n",
      "Congratulations! You've guessed the word!\n"
     ]
    }
   ],
   "source": [
    "import random\n",
    "\n",
    "# List of words to choose from\n",
    "word_list = [\n",
    "    'mystery', 'python', 'development', 'hangman', 'challenge',\n",
    "    'programming', 'algorithm', 'function', 'variable', 'condition',\n",
    "    'iteration', 'recursion', 'dictionary', 'list', 'tuple',\n",
    "    'string', 'integer', 'boolean', 'syntax', 'inheritance',\n",
    "    'polymorphism', 'encapsulation', 'abstraction', 'asynchronous',\n",
    "    'synchronous', 'framework', 'library', 'database', 'query',\n",
    "    'frontend', 'backend', 'server', 'client', 'protocol',\n",
    "    'encryption', 'decryption', 'authentication', 'authorization',\n",
    "    'cloud', 'virtualization', 'containerization', 'orchestration',\n",
    "    'microservices', 'deployment', 'continuous', 'integration',\n",
    "    'testing', 'debugging', 'performance', 'optimization'\n",
    "]\n",
    "\n",
    "# Choosing a random word from the word_list\n",
    "word = random.choice(word_list)\n",
    "guessed_letters = []\n",
    "tries = 10  # Number of allowed wrong guesses\n",
    "\n",
    "def display_word():\n",
    "    \"\"\"Display the current state of the word to guess\"\"\"\n",
    "    display = ''\n",
    "    for letter in word:\n",
    "        if letter in guessed_letters:\n",
    "            display += letter\n",
    "        else:\n",
    "            display += '_'\n",
    "    return display\n",
    "\n",
    "def take_guess():\n",
    "    \"\"\"Take the player's guess and process it\"\"\"\n",
    "    guess = input(\"Guess a letter: \").lower()\n",
    "    if guess in guessed_letters:\n",
    "        print(\"You already guessed that letter.\")\n",
    "    elif guess not in word:\n",
    "        global tries\n",
    "        tries -= 1\n",
    "        print(f\"Wrong! You have {tries} tries left.\")\n",
    "    guessed_letters.append(guess)\n",
    "\n",
    "def play_game():\n",
    "    \"\"\"Main game function\"\"\"\n",
    "    while tries > 0:\n",
    "        print(display_word())\n",
    "        take_guess()\n",
    "        \n",
    "        if \"_\" not in display_word():\n",
    "            print(\"Congratulations! You've guessed the word!\")\n",
    "            break\n",
    "    else:  # This else corresponds to the while loop\n",
    "        print(f\"You've run out of tries. The word was '{word}'.\")\n",
    "\n",
    "if __name__ == \"__main__\":\n",
    "    play_game()\n"
   ]
  },
  {
   "cell_type": "code",
   "execution_count": null,
   "id": "224c5219",
   "metadata": {},
   "outputs": [],
   "source": []
  }
 ],
 "metadata": {
  "kernelspec": {
   "display_name": "Python 3 (ipykernel)",
   "language": "python",
   "name": "python3"
  },
  "language_info": {
   "codemirror_mode": {
    "name": "ipython",
    "version": 3
   },
   "file_extension": ".py",
   "mimetype": "text/x-python",
   "name": "python",
   "nbconvert_exporter": "python",
   "pygments_lexer": "ipython3",
   "version": "3.11.5"
  }
 },
 "nbformat": 4,
 "nbformat_minor": 5
}
