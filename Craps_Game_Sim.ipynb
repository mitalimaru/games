{
 "cells": [
  {
   "cell_type": "code",
   "execution_count": 7,
   "id": "1e853621",
   "metadata": {},
   "outputs": [],
   "source": [
    "import numpy as np\n",
    "import pandas as pd\n",
    "import matplotlib.pyplot as plt\n",
    "import collections\n",
    "import random"
   ]
  },
  {
   "cell_type": "markdown",
   "id": "c6224ec4",
   "metadata": {},
   "source": [
    "### Craps Game Sim\n",
    "\n",
    "Winning the pass bet in the dice game Craps follows the following rules:\n",
    "- Player rolls the two dice (the “come out” roll).\n",
    "- If the first roll (total of both dice) is a 7 or 11, the pass bet wins.\n",
    "- If the first roll is a 2, 3 or 12, the pass bet loses.\n",
    "- If any other total is rolled, the player rolls again repeated until one of the following…\n",
    "    - If the player rolls the same total as the first (come out) roll, the pass bet wins.\n",
    "    - If the player rolls a 7, the pass bet loses.\n",
    "\n",
    "\n"
   ]
  },
  {
   "cell_type": "code",
   "execution_count": 8,
   "id": "492014eb",
   "metadata": {},
   "outputs": [],
   "source": [
    "def rollDice(sides, num) :\n",
    "    total = sum(random.randint(1, sides) for _ in range(num))\n",
    "    return total"
   ]
  },
  {
   "cell_type": "code",
   "execution_count": 13,
   "id": "65225ca9",
   "metadata": {},
   "outputs": [
    {
     "data": {
      "text/plain": [
       "(8, 1)"
      ]
     },
     "execution_count": 13,
     "metadata": {},
     "output_type": "execute_result"
    }
   ],
   "source": [
    "def craps_game():\n",
    "    num_rolls = 0\n",
    "    come_out_roll = rollDice(6, 2)\n",
    "    num_rolls += 1\n",
    "\n",
    "    # Check come out roll for instant win/lose\n",
    "    if come_out_roll in [7, 11]:\n",
    "        outcome = 1\n",
    "        return num_rolls, outcome\n",
    "    if come_out_roll in [2, 3, 12]:\n",
    "        outcome = 0\n",
    "        return num_rolls, outcome\n",
    "\n",
    "    # Continue rolling until matching the come out roll or rolling a 7\n",
    "    while True:\n",
    "        roll = rollDice(6, 2)\n",
    "        num_rolls += 1\n",
    "\n",
    "        if roll == come_out_roll:\n",
    "            outcome = 1\n",
    "            return num_rolls, outcome\n",
    "        if roll == 7:\n",
    "            outcome = 0\n",
    "            return num_rolls, outcome\n",
    "\n",
    "# Simulate a single round of Craps using crapsGame function\n",
    "craps_game()\n",
    "\n"
   ]
  },
  {
   "cell_type": "code",
   "execution_count": 10,
   "id": "66fa7188",
   "metadata": {},
   "outputs": [],
   "source": [
    "def trialsCrapsGame(num_trials) :\n",
    "    trials_num_rolls=0\n",
    "    trials_outcomes=0\n",
    "    for i in range(num_trials):\n",
    "        x,y=craps_game()\n",
    "        trials_num_rolls+=x\n",
    "        trials_outcomes+=y\n",
    "\n",
    "    return trials_num_rolls, trials_outcomes"
   ]
  },
  {
   "cell_type": "code",
   "execution_count": 11,
   "id": "0a36cf93",
   "metadata": {},
   "outputs": [],
   "source": [
    "num_trials=1000000\n",
    "craps = trialsCrapsGame(num_trials)"
   ]
  },
  {
   "cell_type": "markdown",
   "id": "e56c3f2f",
   "metadata": {},
   "source": [
    "Simulate your Craps models enough times to get a stable estimate of the probability of the pass \n",
    "bet winning. What are the average number of dice rolls in a Craps game? What is the estimated \n",
    "probability of winning?\n",
    "\n",
    "Number of Rolls _______  \n",
    "Prob of Winning _______"
   ]
  },
  {
   "cell_type": "code",
   "execution_count": 12,
   "id": "be02fa76",
   "metadata": {
    "scrolled": true
   },
   "outputs": [
    {
     "name": "stdout",
     "output_type": "stream",
     "text": [
      "Number of Rolls :  3.369804\n",
      "Prob Of Winning : 0.493489\n"
     ]
    }
   ],
   "source": [
    "numOfRolls,wins = craps\n",
    "probOfWinning =wins/num_trials\n",
    "print(\"Number of Rolls : \" , (numOfRolls/num_trials))\n",
    "print(\"Prob Of Winning :\",(probOfWinning))"
   ]
  },
  {
   "cell_type": "code",
   "execution_count": null,
   "id": "1619b290",
   "metadata": {},
   "outputs": [],
   "source": []
  },
  {
   "cell_type": "code",
   "execution_count": null,
   "id": "e51089f0",
   "metadata": {},
   "outputs": [],
   "source": []
  },
  {
   "cell_type": "code",
   "execution_count": null,
   "id": "9a98b21f",
   "metadata": {},
   "outputs": [],
   "source": []
  }
 ],
 "metadata": {
  "kernelspec": {
   "display_name": "Python 3 (ipykernel)",
   "language": "python",
   "name": "python3"
  },
  "language_info": {
   "codemirror_mode": {
    "name": "ipython",
    "version": 3
   },
   "file_extension": ".py",
   "mimetype": "text/x-python",
   "name": "python",
   "nbconvert_exporter": "python",
   "pygments_lexer": "ipython3",
   "version": "3.11.5"
  }
 },
 "nbformat": 4,
 "nbformat_minor": 5
}
