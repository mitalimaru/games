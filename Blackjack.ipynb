{
 "cells": [
  {
   "cell_type": "code",
   "execution_count": 1,
   "id": "96e1b77f",
   "metadata": {},
   "outputs": [
    {
     "name": "stdout",
     "output_type": "stream",
     "text": [
      "Your hand: ['2', 'Queen'], current score: 12\n",
      "Dealer's first card: King\n",
      "Type 'y' to get another card, type 'n' to pass: y\n",
      "Your hand: ['2', 'Queen', '6'], current score: 18\n",
      "Dealer's first card: King\n",
      "Type 'y' to get another card, type 'n' to pass: n\n",
      "Your final hand: ['2', 'Queen', '6'], final score: 18\n",
      "Dealer's final hand: ['King', '5', 'Ace', 'King'], final score: 26\n",
      "You win 😃\n"
     ]
    }
   ],
   "source": [
    "import random\n",
    "\n",
    "# Initialize deck. Each card has a value (e.g., '2' = 2, 'King' = 10, 'Ace' can be 1 or 11).\n",
    "deck = ['2', '3', '4', '5', '6', '7', '8', '9', '10', 'Jack', 'Queen', 'King', 'Ace'] * 4\n",
    "\n",
    "def deal_card(deck):\n",
    "    \"\"\"Deal a single card and remove it from the deck.\"\"\"\n",
    "    card = random.choice(deck)\n",
    "    deck.remove(card)\n",
    "    return card\n",
    "\n",
    "def calculate_score(hand):\n",
    "    \"\"\"Calculate the score of a hand.\"\"\"\n",
    "    values = {'2': 2, '3': 3, '4': 4, '5': 5, '6': 6, '7': 7, '8': 8, '9': 9, '10': 10,\n",
    "              'Jack': 10, 'Queen': 10, 'King': 10, 'Ace': 11}\n",
    "    score = sum(values[card] for card in hand)\n",
    "    \n",
    "    # Adjust for Aces if score is over 21\n",
    "    num_aces = hand.count('Ace')\n",
    "    while score > 21 and num_aces:\n",
    "        score -= 10\n",
    "        num_aces -= 1\n",
    "    return score\n",
    "\n",
    "def play_blackjack():\n",
    "    player_hand = [deal_card(deck), deal_card(deck)]\n",
    "    dealer_hand = [deal_card(deck), deal_card(deck)]\n",
    "    \n",
    "    game_over = False\n",
    "    while not game_over:\n",
    "        player_score = calculate_score(player_hand)\n",
    "        dealer_score = calculate_score(dealer_hand)\n",
    "        \n",
    "        print(f\"Your hand: {player_hand}, current score: {player_score}\")\n",
    "        print(f\"Dealer's first card: {dealer_hand[0]}\")\n",
    "        \n",
    "        if player_score == 21 or dealer_score == 21 or player_score > 21:\n",
    "            game_over = True\n",
    "        else:\n",
    "            player_should_deal = input(\"Type 'y' to get another card, type 'n' to pass: \")\n",
    "            if player_should_deal == 'y':\n",
    "                player_hand.append(deal_card(deck))\n",
    "            else:\n",
    "                game_over = True\n",
    "    \n",
    "    while dealer_score != 21 and dealer_score < 17:\n",
    "        dealer_hand.append(deal_card(deck))\n",
    "        dealer_score = calculate_score(dealer_hand)\n",
    "        \n",
    "    print(f\"Your final hand: {player_hand}, final score: {player_score}\")\n",
    "    print(f\"Dealer's final hand: {dealer_hand}, final score: {dealer_score}\")\n",
    "    if player_score > 21 or (dealer_score <= 21 and dealer_score > player_score):\n",
    "        print(\"You lose 😤\")\n",
    "    elif dealer_score > 21 or (player_score <= 21 and player_score > dealer_score):\n",
    "        print(\"You win 😃\")\n",
    "    else:\n",
    "        print(\"It's a draw 🤝\")\n",
    "\n",
    "if __name__ == \"__main__\":\n",
    "    play_blackjack()\n"
   ]
  },
  {
   "cell_type": "code",
   "execution_count": null,
   "id": "fff5ed47",
   "metadata": {},
   "outputs": [],
   "source": []
  }
 ],
 "metadata": {
  "kernelspec": {
   "display_name": "Python 3 (ipykernel)",
   "language": "python",
   "name": "python3"
  },
  "language_info": {
   "codemirror_mode": {
    "name": "ipython",
    "version": 3
   },
   "file_extension": ".py",
   "mimetype": "text/x-python",
   "name": "python",
   "nbconvert_exporter": "python",
   "pygments_lexer": "ipython3",
   "version": "3.11.5"
  }
 },
 "nbformat": 4,
 "nbformat_minor": 5
}
