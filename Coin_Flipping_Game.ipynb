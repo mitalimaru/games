{
 "cells": [
  {
   "cell_type": "code",
   "execution_count": 1,
   "id": "601b14ee",
   "metadata": {},
   "outputs": [],
   "source": [
    "import numpy as np\n",
    "import matplotlib.pyplot as plt"
   ]
  },
  {
   "cell_type": "markdown",
   "id": "c6224ec4",
   "metadata": {},
   "source": [
    "### Coin Flipping Game\n",
    "\n",
    "Flip a coin repeatedly until the difference between the total number of heads tossed and the number of tails tossed is equal to 3.\n",
    "\n",
    "Cost =  \\\\$1.00 for each flip.  \n",
    "Payout =  \\\\$8.00 at the end of the game."
   ]
  },
  {
   "cell_type": "code",
   "execution_count": 2,
   "id": "4077623c",
   "metadata": {},
   "outputs": [],
   "source": [
    "prob = .5"
   ]
  },
  {
   "cell_type": "code",
   "execution_count": 3,
   "id": "492014eb",
   "metadata": {},
   "outputs": [],
   "source": [
    "## define function for Coin FLip\n",
    "\n",
    "def coinFlip(prob):\n",
    "    flip = np.random.binomial(1,.5) #1 = num of trials, prob = probability\n",
    "\n",
    "    ## conditional logic to create \"face\" = to H or T\n",
    "    if flip == 1:\n",
    "        face = 'H'\n",
    "    else:\n",
    "        face = 'T'\n",
    "    \n",
    "    return face\n"
   ]
  },
  {
   "cell_type": "code",
   "execution_count": 4,
   "id": "5dc9887b",
   "metadata": {},
   "outputs": [
    {
     "data": {
      "text/plain": [
       "'H'"
      ]
     },
     "execution_count": 4,
     "metadata": {},
     "output_type": "execute_result"
    }
   ],
   "source": [
    "## perform one coin flip\n",
    "coinFlip(prob)"
   ]
  },
  {
   "cell_type": "code",
   "execution_count": 15,
   "id": "ec1e51cc",
   "metadata": {},
   "outputs": [
    {
     "data": {
      "text/plain": [
       "['T',\n",
       " 'H',\n",
       " 'H',\n",
       " 'T',\n",
       " 'H',\n",
       " 'T',\n",
       " 'H',\n",
       " 'H',\n",
       " 'T',\n",
       " 'H',\n",
       " 'T',\n",
       " 'T',\n",
       " 'T',\n",
       " 'H',\n",
       " 'T',\n",
       " 'H',\n",
       " 'T',\n",
       " 'T',\n",
       " 'H',\n",
       " 'T']"
      ]
     },
     "execution_count": 15,
     "metadata": {},
     "output_type": "execute_result"
    }
   ],
   "source": [
    "## perform trial of coin flips\n",
    "\n",
    "numFlips = 20\n",
    "results = []\n",
    "\n",
    "## loop to create list of 20 flips\n",
    "for i in range (0,numFlips):\n",
    "    results.append(coinFlip(prob))\n",
    "results"
   ]
  },
  {
   "cell_type": "code",
   "execution_count": 16,
   "id": "3fdbdc7f",
   "metadata": {},
   "outputs": [
    {
     "data": {
      "image/png": "[encoded data removed]",
      "text/plain": [
       "<Figure size 640x480 with 1 Axes>"
      ]
     },
     "metadata": {},
     "output_type": "display_data"
    }
   ],
   "source": [
    "plt.hist(results)\n",
    "plt.show()"
   ]
  },
  {
   "cell_type": "code",
   "execution_count": 19,
   "id": "65225ca9",
   "metadata": {},
   "outputs": [],
   "source": [
    "def coinFlipGame(req_diff, cost_per_flip, payoff) :\n",
    "\n",
    "    num_heads = 0\n",
    "    num_tails = 0\n",
    "    prob = .5\n",
    "    \n",
    "    ## code to create single play of coin flip game\n",
    "    while abs(num_heads - num_tails) < req_diff:\n",
    "        flip = coinFlip(prob)\n",
    "        if flip == \"H\":\n",
    "            num_heads += 1\n",
    "        else:\n",
    "            num_tails += 1\n",
    "        \n",
    "    num_flips = num_heads + num_tails\n",
    "    winnings = payoff - cost_per_flip * num_flips\n",
    "    return num_flips, winnings\n",
    "    "
   ]
  },
  {
   "cell_type": "code",
   "execution_count": 20,
   "id": "ff76bf85",
   "metadata": {},
   "outputs": [
    {
     "data": {
      "text/plain": [
       "5"
      ]
     },
     "execution_count": 20,
     "metadata": {},
     "output_type": "execute_result"
    }
   ],
   "source": [
    "n,w = coinFlipGame(3, 1, 8)\n",
    "w"
   ]
  },
  {
   "cell_type": "code",
   "execution_count": 21,
   "id": "66fa7188",
   "metadata": {},
   "outputs": [],
   "source": [
    "def trialsCoinFlipGame(num_trials, req_diff, cost_per_flip, payoff) :\n",
    "    trials_num_flips = []\n",
    "    trials_winnings = []\n",
    "    \n",
    "    for i in range(num_trials) :\n",
    "        n, w = coinFlipGame(req_diff, cost_per_flip, payoff)\n",
    "        trials_num_flips.append(n)\n",
    "        trials_winnings.append(w)\n",
    "\n",
    "    return trials_num_flips, trials_winnings"
   ]
  },
  {
   "cell_type": "code",
   "execution_count": 22,
   "id": "046929c6",
   "metadata": {},
   "outputs": [
    {
     "data": {
      "text/plain": [
       "[5, -1, -21, -9, -1, 3, -19, 5, 3, 3]"
      ]
     },
     "execution_count": 22,
     "metadata": {},
     "output_type": "execute_result"
    }
   ],
   "source": [
    "num, win = trialsCoinFlipGame(10,3,1,8)\n",
    "win"
   ]
  },
  {
   "cell_type": "code",
   "execution_count": 23,
   "id": "473dff6a",
   "metadata": {},
   "outputs": [
    {
     "data": {
      "text/plain": [
       "9.0032"
      ]
     },
     "execution_count": 23,
     "metadata": {},
     "output_type": "execute_result"
    }
   ],
   "source": [
    "num, win = trialsCoinFlipGame(25000,3,1,8)\n",
    "avg_flips = np.average(num)\n",
    "avg_flips"
   ]
  },
  {
   "cell_type": "code",
   "execution_count": 24,
   "id": "a134607f",
   "metadata": {},
   "outputs": [
    {
     "data": {
      "text/plain": [
       "-1.0032"
      ]
     },
     "execution_count": 24,
     "metadata": {},
     "output_type": "execute_result"
    }
   ],
   "source": [
    "avg_winnings = np.average(win)\n",
    "avg_winnings"
   ]
  },
  {
   "cell_type": "code",
   "execution_count": null,
   "id": "644caec8",
   "metadata": {},
   "outputs": [],
   "source": []
  }
 ],
 "metadata": {
  "kernelspec": {
   "display_name": "Python 3 (ipykernel)",
   "language": "python",
   "name": "python3"
  },
  "language_info": {
   "codemirror_mode": {
    "name": "ipython",
    "version": 3
   },
   "file_extension": ".py",
   "mimetype": "text/x-python",
   "name": "python",
   "nbconvert_exporter": "python",
   "pygments_lexer": "ipython3",
   "version": "3.11.5"
  }
 },
 "nbformat": 4,
 "nbformat_minor": 5
}
